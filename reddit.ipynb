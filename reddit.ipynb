{
 "cells": [
  {
   "cell_type": "code",
   "execution_count": 1,
   "id": "95b96bd1",
   "metadata": {},
   "outputs": [],
   "source": [
    "import requests"
   ]
  },
  {
   "cell_type": "code",
   "execution_count": 3,
   "id": "dad0ddd3",
   "metadata": {},
   "outputs": [],
   "source": [
    "def get_reddit_comment_mentions(query, start_date, end_date):\n",
    "    url = f'https://api.pushshift.io/reddit/comment/search/?&q={query}&after={start_date}&before={end_date}&metadata=true&size=0'\n",
    "    return requests.get(url).json()"
   ]
  },
  {
   "cell_type": "code",
   "execution_count": 4,
   "id": "2604ffca",
   "metadata": {},
   "outputs": [],
   "source": [
    "def get_reddit_thread_mentions(query, start_date, end_date):\n",
    "    url = f'https://api.pushshift.io/reddit/submission/search/?&q={query}&after={start_date}&before={end_date}&metadata=true&size=0'\n",
    "    return requests.get(url).json()"
   ]
  },
  {
   "cell_type": "code",
   "execution_count": 5,
   "id": "50f35b1e",
   "metadata": {
    "scrolled": true
   },
   "outputs": [
    {
     "data": {
      "text/plain": [
       "4635"
      ]
     },
     "execution_count": 5,
     "metadata": {},
     "output_type": "execute_result"
    }
   ],
   "source": [
    "# Упоминаний в комментариях за день\n",
    "data = get_reddit_comment_mentions('Bitcoin', '2021-07-01', '2021-07-02')\n",
    "data['metadata']['total_results']"
   ]
  },
  {
   "cell_type": "code",
   "execution_count": 6,
   "id": "b7024a17",
   "metadata": {},
   "outputs": [
    {
     "data": {
      "text/plain": [
       "2926"
      ]
     },
     "execution_count": 6,
     "metadata": {},
     "output_type": "execute_result"
    }
   ],
   "source": [
    "# Упоминаний в названиях тем за день\n",
    "data = get_reddit_thread_mentions('Bitcoin', '2021-07-01', '2021-07-02')\n",
    "data['metadata']['total_results']"
   ]
  }
 ],
 "metadata": {
  "kernelspec": {
   "display_name": "Python 3",
   "language": "python",
   "name": "python3"
  },
  "language_info": {
   "codemirror_mode": {
    "name": "ipython",
    "version": 3
   },
   "file_extension": ".py",
   "mimetype": "text/x-python",
   "name": "python",
   "nbconvert_exporter": "python",
   "pygments_lexer": "ipython3",
   "version": "3.9.5"
  }
 },
 "nbformat": 4,
 "nbformat_minor": 5
}
